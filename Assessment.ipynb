{
 "cells": [
  {
   "cell_type": "code",
   "execution_count": 1,
   "id": "60a3469c-637b-43f7-adbc-67810d6ed940",
   "metadata": {},
   "outputs": [],
   "source": [
    "import os\n",
    "import openai\n",
    "from langchain.chat_models import ChatOpenAI\n",
    "from dotenv import load_dotenv, find_dotenv\n",
    "\n",
    "_ = load_dotenv(find_dotenv())\n",
    "openai.api_key = os.getenv('OPENAI_API_KEY')"
   ]
  },
  {
   "cell_type": "code",
   "execution_count": 2,
   "id": "ac5c38dc-f2ac-4b3c-91b8-8d64674af7ab",
   "metadata": {},
   "outputs": [
    {
     "name": "stderr",
     "output_type": "stream",
     "text": [
      "/tmp/ipykernel_103/221477837.py:1: LangChainDeprecationWarning: The class `ChatOpenAI` was deprecated in LangChain 0.0.10 and will be removed in 1.0. An updated version of the class exists in the :class:`~langchain-openai package and should be used instead. To use it run `pip install -U :class:`~langchain-openai` and import as `from :class:`~langchain_openai import ChatOpenAI``.\n",
      "  llm = ChatOpenAI(model_name = 'gpt-3.5-turbo')\n"
     ]
    }
   ],
   "source": [
    "llm = ChatOpenAI(model_name = 'gpt-3.5-turbo')"
   ]
  },
  {
   "cell_type": "code",
   "execution_count": 3,
   "id": "621a2a06-a068-45a7-8bbd-ef90d628b067",
   "metadata": {},
   "outputs": [],
   "source": [
    "from langchain.embeddings import OpenAIEmbeddings\n",
    "from langchain.vectorstores import FAISS\n",
    "from langchain.document_loaders import DirectoryLoader"
   ]
  },
  {
   "cell_type": "markdown",
   "id": "0e690c72-b7c8-42de-b8e7-ac1b9111304c",
   "metadata": {},
   "source": [
    "!pip install pypdf"
   ]
  },
  {
   "cell_type": "markdown",
   "id": "da3beb8f-019d-481a-98f2-d67487e0a1ad",
   "metadata": {},
   "source": [
    "!pip install \"unstructured[pdf]\""
   ]
  },
  {
   "cell_type": "code",
   "execution_count": 4,
   "id": "e0c03e97-a9c8-4db1-a86e-706e6bc97d8a",
   "metadata": {},
   "outputs": [
    {
     "name": "stdout",
     "output_type": "stream",
     "text": [
      "page_content='I \n",
      "(Legislativ e acts) \n",
      "REGUL A TIONS \n",
      "REGUL A TION (EU) 2016/679 OF THE EUR OPEAN P ARLIAMENT AND OF THE COUNCIL \n",
      "of 27 Apr il 2016 \n",
      "on the protection of natural persons with regard to the processing of personal data and on the free \n",
      "mo v ement of such dat a, and repealing Directiv e 95/46/EC (General Data Protection Regulation) \n",
      "(T ext with EEA relevance) \n",
      "THE EUR OPEAN P ARLIAMENT AND THE COUNCIL OF THE EUR OPEAN UNION, \n",
      "Ha ving regar d to the T reaty on the Functioning of the European Union, and in par ticular Ar ticle 16 thereof, \n",
      "Ha ving regar d to the proposal from the European Commission, \n",
      "Af ter transmission of the draf t legislative act to the national parliaments, \n",
      "Ha ving regar d to the opinion of the European Economic and Social Committ ee (\n",
      "1\n",
      "), \n",
      "Ha ving regar d to the opinion of the Committ ee of the Regions (\n",
      "2\n",
      "), \n",
      "A cting in accordance with the ordinar y legislative procedure (\n",
      "3\n",
      "), \n",
      "Whereas: \n",
      "(1)  The protection of natural persons in relation to the processing of personal data is a fundamental r ight. \n",
      "Ar ticle 8(1) of the Char ter of Fundamental Rights of the European Union (the ‘Char te r ’) and Ar ticle 16(1) of the \n",
      "T reaty on the Functioning of the European U nion (TFEU) pro vide that ever y one has the r ight to the prot ection of \n",
      "personal data concer ning him or her . \n",
      "(2)  The pr inciples of, and r ules on the protection of natural persons with regard to the processing of their personal \n",
      "data should, whate ver their nationality or residence, respect their fundamental r ights and freedoms, in par ticular \n",
      "their r ight to the prote ction of personal data. This Regulation is inte nded to contr ibute to the accompl ishment of \n",
      "an area of freedom, secur ity and justice and of an economic union, to economic and social progress, to the \n",
      "strengthening and the converg ence of the economies within the inte r nal mark et, and to the well-being of natural \n",
      "persons. \n",
      "(3)  Directive 95/46/EC of the European P arliament and of the Council (\n",
      "4\n",
      ") seeks to har monise the prot ection of \n",
      "fundamental r ights and freedoms of natural persons in respect of processing activities and to ensure the free f lo w \n",
      "of personal data between Member State s. \n",
      "4.5.2016 L 119/1 Official Jour nal of the European Union EN     \n",
      "(\n",
      "1\n",
      ") OJ C 229, 31.7.2012, p. 90. \n",
      "(\n",
      "2\n",
      ") OJ C 391, 18.12.2012, p. 127. \n",
      "(\n",
      "3\n",
      ") P osition of the European P arliament of 12 March 2014 (not yet published in the Offi cial Jour nal) and position of the Council at first \n",
      "reading of 8 Apr il 2016 (not yet published in the Offi cial Jour nal). P osition of the European Parliament of 14 Apr il 2016. \n",
      "(\n",
      "4\n",
      ") Directive 95/46/EC of the European Parliament and of the Council of 24 October 1995 on the protection of individuals with regard t o \n",
      "the processing of personal data and on the free mo vement of such data (OJ L 281, 23.11.1995, p. 31).' metadata={'producer': 'PDFlib+PDI 8.0.5p2 (C++/Win64)', 'creator': 'Arbortext Advanced Print Publisher 11.0.3108/W Unicode-x64', 'creationdate': '2016-05-02T11:34:14+02:00', 'author': 'Publications Office', 'moddate': '2016-05-03T08:52:52+02:00', 'title': 'REGULATION  (EU)  2016/  679  OF  THE  EUROPEAN  PARLIAMENT  AND  OF  THE  COUNCIL  -  of  27  April  2016  -  on  the  protection  of  natural  persons  with  regard  to  the  processing  of  personal  data  and  on  the  free  movement  of  such  data,  and  repealing  Directive 95/  46/  EC  (General  Data  Protection  Regulation)', 'source': 'CELEX_32016R0679_EN_TXT.pdf', 'total_pages': 88, 'page': 0, 'page_label': '1'}\n"
     ]
    }
   ],
   "source": [
    "#loader = DirectoryLoader('Data/', glob='**/*.pdf')\n",
    "#EU_data = loader.load()\n",
    "#print(len(EU_data))\n",
    "\n",
    "from langchain.document_loaders import PyPDFLoader\n",
    "\n",
    "pdf_loader = PyPDFLoader(\"CELEX_32016R0679_EN_TXT.pdf\")\n",
    "pdf_pages = pdf_loader.load_and_split()\n",
    "print(pdf_pages[0])"
   ]
  },
  {
   "cell_type": "code",
   "execution_count": 6,
   "id": "93ee395e-bd30-43a6-914e-73659a243899",
   "metadata": {},
   "outputs": [],
   "source": [
    "from langchain.docstore.document import Document\n",
    "from langchain.text_splitter import RecursiveCharacterTextSplitter"
   ]
  },
  {
   "cell_type": "code",
   "execution_count": 7,
   "id": "3801954e-3885-454e-9478-3fa91ed13a61",
   "metadata": {},
   "outputs": [
    {
     "name": "stdout",
     "output_type": "stream",
     "text": [
      "461\n"
     ]
    }
   ],
   "source": [
    "splitter = RecursiveCharacterTextSplitter(chunk_size=1024, chunk_overlap=64)\n",
    "splits = splitter.split_documents(pdf_pages)\n",
    "print(len(splits)) "
   ]
  },
  {
   "cell_type": "code",
   "execution_count": 8,
   "id": "af629681-4b1c-4ed4-8239-25157044defb",
   "metadata": {},
   "outputs": [],
   "source": [
    "from langchain.embeddings import OpenAIEmbeddings\n",
    "from langchain.vectorstores import FAISS"
   ]
  },
  {
   "cell_type": "code",
   "execution_count": 9,
   "id": "e840f61f-43b9-4276-8880-7d727111fa5c",
   "metadata": {},
   "outputs": [
    {
     "name": "stderr",
     "output_type": "stream",
     "text": [
      "/tmp/ipykernel_103/909470085.py:1: LangChainDeprecationWarning: The class `OpenAIEmbeddings` was deprecated in LangChain 0.0.9 and will be removed in 1.0. An updated version of the class exists in the :class:`~langchain-openai package and should be used instead. To use it run `pip install -U :class:`~langchain-openai` and import as `from :class:`~langchain_openai import OpenAIEmbeddings``.\n",
      "  embedding_model = OpenAIEmbeddings()\n"
     ]
    }
   ],
   "source": [
    "embedding_model = OpenAIEmbeddings()"
   ]
  },
  {
   "cell_type": "code",
   "execution_count": 10,
   "id": "d14101fd-c9dd-4440-83d4-3fd587fde59b",
   "metadata": {},
   "outputs": [],
   "source": [
    "vectorstore = FAISS.from_documents(splits,embedding_model)"
   ]
  },
  {
   "cell_type": "code",
   "execution_count": 11,
   "id": "0740da7c-c8cb-4c1a-85e5-5cd0307cb32f",
   "metadata": {},
   "outputs": [],
   "source": [
    "vectorstore.save_local(\"saved_docs\")"
   ]
  },
  {
   "cell_type": "code",
   "execution_count": 12,
   "id": "71244e03-cbbe-4bf3-9d74-20cb800afc44",
   "metadata": {},
   "outputs": [],
   "source": [
    "def retrieval_tool(query):\n",
    "    retrieved_docs = vectorstore.similarity_search(query, k=3)\n",
    "    return \"\\n\\n\".join([doc.page_content for doc in retrieved_docs])"
   ]
  },
  {
   "cell_type": "code",
   "execution_count": 13,
   "id": "f46ce88f-4aec-41e2-a6de-06043b4d5e2f",
   "metadata": {},
   "outputs": [
    {
     "name": "stdout",
     "output_type": "stream",
     "text": [
      "author ity of each Member State and the European Data Prote ction Super visor or their respective representatives.\n",
      "\n",
      "This Regulation shall be binding in its entirety and directly applicable in all Member State s. \n",
      "Done at Br ussels, 27 Apr il 2016. \n",
      "For the Eur opean P arliament \n",
      "The Pres ident \n",
      "M. SCH ULZ  \n",
      "For the Council \n",
      "The President \n",
      "J.A. HENNIS-PL ASSC HAERT   \n",
      "4.5.2016 L 119/88 Official Jour nal of the European Union EN\n",
      "\n",
      "Chapt er VII. \n",
      "3. Where more than one super visor y author ity is established in a Member Stat e, that Member State shall designat e \n",
      "the super visor y author ity which is to represent those author ities in the Board and shall set out the mechanis m to ensure \n",
      "compl iance by the other author ities with the r ules relating to the consiste ncy mechani sm refe r red to in Ar ticle 63. \n",
      "4. Each Member Stat e shall notify to the Commission the pro visions of its law which it adopts pursuant to this \n",
      "Chapt er , by 25 Ma y 2018 and, without dela y , an y subsequent amendment affectin g them. \n",
      "4.5.2016 L 119/65 Official Jour nal of the European Union EN\n"
     ]
    }
   ],
   "source": [
    "retrieve = retrieval_tool(\"Who is the president of EU?\")\n",
    "print(retrieve)"
   ]
  },
  {
   "cell_type": "code",
   "execution_count": 14,
   "id": "28f1d3a4-331c-42cd-b9e5-5d9b92649579",
   "metadata": {},
   "outputs": [],
   "source": [
    "from langchain.agents import initialize_agent,  AgentType\n",
    "from langchain.tools import Tool"
   ]
  },
  {
   "cell_type": "code",
   "execution_count": 15,
   "id": "5e81d12c-7d6b-4ff3-9443-8b7745fea1f5",
   "metadata": {},
   "outputs": [],
   "source": [
    "tools = [\n",
    "    #Tool(name=\"RephraseTool\", func=rephrasing_tool, description=\"Rephrase the search query\"),\n",
    "    Tool(name=\"RetrieveTool\", func=retrieval_tool, description=\"Retrieve the searched result from the embeddings\"),\n",
    "    #Tool(name=\"ReranTool\", func=re_ranker_tool, description=\"Rerank retrieved documents to pick best matches\")\n",
    "]"
   ]
  },
  {
   "cell_type": "code",
   "execution_count": 16,
   "id": "12b5d15c-458f-4987-bb6e-ccd74ba36f8c",
   "metadata": {},
   "outputs": [
    {
     "name": "stderr",
     "output_type": "stream",
     "text": [
      "/tmp/ipykernel_103/3437836968.py:2: LangChainDeprecationWarning: Please see the migration guide at: https://python.langchain.com/docs/versions/migrating_memory/\n",
      "  memory = ConversationBufferMemory(memory_key = 'chat_history', return_messages = True)\n"
     ]
    }
   ],
   "source": [
    "from langchain.memory import ConversationBufferMemory\n",
    "memory = ConversationBufferMemory(memory_key = 'chat_history', return_messages = True)"
   ]
  },
  {
   "cell_type": "code",
   "execution_count": 17,
   "id": "dae70e26-77ef-42d6-add0-e85121e361b8",
   "metadata": {},
   "outputs": [
    {
     "name": "stderr",
     "output_type": "stream",
     "text": [
      "/tmp/ipykernel_103/3931876160.py:1: LangChainDeprecationWarning: LangChain agents will continue to be supported, but it is recommended for new use cases to be built with LangGraph. LangGraph offers a more flexible and full-featured framework for building agents, including support for tool-calling, persistence of state, and human-in-the-loop workflows. For details, refer to the `LangGraph documentation <https://langchain-ai.github.io/langgraph/>`_ as well as guides for `Migrating from AgentExecutor <https://python.langchain.com/docs/how_to/migrate_agent/>`_ and LangGraph's `Pre-built ReAct agent <https://langchain-ai.github.io/langgraph/how-tos/create-react-agent/>`_.\n",
      "  agents = initialize_agent(\n"
     ]
    }
   ],
   "source": [
    "agents = initialize_agent(\n",
    "    agent=AgentType.CONVERSATIONAL_REACT_DESCRIPTION,\n",
    "    tools=tools, \n",
    "    llm=llm,\n",
    "    memory=memory,\n",
    "    verbose=True,\n",
    "    handle_parsing_errors=True\n",
    ")"
   ]
  },
  {
   "cell_type": "code",
   "execution_count": 18,
   "id": "fd06a784-40c4-410b-a883-b20e7a31cce4",
   "metadata": {},
   "outputs": [
    {
     "name": "stdout",
     "output_type": "stream",
     "text": [
      "\n",
      "\n",
      "\u001b[1m> Entering new AgentExecutor chain...\u001b[0m\n",
      "\u001b[32;1m\u001b[1;3mThought: Do I need to use a tool? Yes\n",
      "Action: RetrieveTool\n",
      "Action Input: President of EU\u001b[0m\n",
      "Observation: \u001b[36;1m\u001b[1;3mThis Regulation shall be binding in its entirety and directly applicable in all Member State s. \n",
      "Done at Br ussels, 27 Apr il 2016. \n",
      "For the Eur opean P arliament \n",
      "The Pres ident \n",
      "M. SCH ULZ  \n",
      "For the Council \n",
      "The President \n",
      "J.A. HENNIS-PL ASSC HAERT   \n",
      "4.5.2016 L 119/88 Official Jour nal of the European Union EN\n",
      "\n",
      "author ity of each Member State and the European Data Prote ction Super visor or their respective representatives.\n",
      "\n",
      "av ailable to the public, to the Commission and to the Board. \n",
      "4.5.2016 L 119/70 Official Jour nal of the European Union EN\u001b[0m\n",
      "Thought:\u001b[32;1m\u001b[1;3mCould not parse LLM output: `The President of the European Union is not a single person like in some countries, but rather the EU is led by several institutions, including the European Council and the European Commission. The President of the European Council is Charles Michel, and the President of the European Commission is Ursula von der Leyen.`\n",
      "For troubleshooting, visit: https://python.langchain.com/docs/troubleshooting/errors/OUTPUT_PARSING_FAILURE \u001b[0m\n",
      "Observation: Invalid or incomplete response\n",
      "Thought:\u001b[32;1m\u001b[1;3mDo I need to use a tool? No\n",
      "AI: The President of the European Union is not a single person like in some countries, but rather the EU is led by several institutions, including the European Council and the European Commission. The President of the European Council is Charles Michel, and the President of the European Commission is Ursula von der Leyen.\u001b[0m\n",
      "\n",
      "\u001b[1m> Finished chain.\u001b[0m\n"
     ]
    },
    {
     "data": {
      "text/plain": [
       "{'input': 'Who is the president of EU?',\n",
       " 'chat_history': [HumanMessage(content='Who is the president of EU?', additional_kwargs={}, response_metadata={}),\n",
       "  AIMessage(content='The President of the European Union is not a single person like in some countries, but rather the EU is led by several institutions, including the European Council and the European Commission. The President of the European Council is Charles Michel, and the President of the European Commission is Ursula von der Leyen.', additional_kwargs={}, response_metadata={})],\n",
       " 'output': 'The President of the European Union is not a single person like in some countries, but rather the EU is led by several institutions, including the European Council and the European Commission. The President of the European Council is Charles Michel, and the President of the European Commission is Ursula von der Leyen.'}"
      ]
     },
     "execution_count": 18,
     "metadata": {},
     "output_type": "execute_result"
    }
   ],
   "source": [
    "agents.invoke(\"Who is the president of EU?\")"
   ]
  },
  {
   "cell_type": "code",
   "execution_count": null,
   "id": "3ef253a8-516b-49bc-8823-b20062c6032d",
   "metadata": {},
   "outputs": [],
   "source": []
  }
 ],
 "metadata": {
  "kernelspec": {
   "display_name": "Python 3 [3.10]",
   "language": "python",
   "name": "python3"
  },
  "language_info": {
   "codemirror_mode": {
    "name": "ipython",
    "version": 3
   },
   "file_extension": ".py",
   "mimetype": "text/x-python",
   "name": "python",
   "nbconvert_exporter": "python",
   "pygments_lexer": "ipython3",
   "version": "3.10.2"
  }
 },
 "nbformat": 4,
 "nbformat_minor": 5
}
